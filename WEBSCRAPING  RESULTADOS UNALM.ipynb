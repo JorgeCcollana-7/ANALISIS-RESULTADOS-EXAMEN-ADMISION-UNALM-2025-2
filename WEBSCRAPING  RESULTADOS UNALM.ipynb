{
 "cells": [
  {
   "cell_type": "code",
   "execution_count": 16,
   "id": "23382e96",
   "metadata": {},
   "outputs": [
    {
     "name": "stdout",
     "output_type": "stream",
     "text": [
      "✓ Agronomía: 114 ingresantes descargados\n",
      "✓ Biología: 23 ingresantes descargados\n",
      "✓ Ingeniería Ambiental: 22 ingresantes descargados\n",
      "✓ Ingeniería Meteorológica: 16 ingresantes descargados\n",
      "✓ Ingeniería Forestal: 34 ingresantes descargados\n",
      "✓ Economía: 35 ingresantes descargados\n",
      "✓ Estadística Informática: 31 ingresantes descargados\n",
      "✓ Ing. Gestión Empresarial: 39 ingresantes descargados\n",
      "✓ Ingeniería Agrícola: 56 ingresantes descargados\n",
      "✓ Zootecnia: 59 ingresantes descargados\n",
      "✓ Pesquería: 32 ingresantes descargados\n",
      "✓ Ingeniería en Industrias Alimentarias: 44 ingresantes descargados\n",
      "Total: 505 ingresantes de todas las carreras guardados\n"
     ]
    }
   ],
   "source": [
    "from selenium import webdriver\n",
    "from selenium.webdriver.common.by import By\n",
    "import time\n",
    "import csv\n",
    "\n",
    "driver = webdriver.Chrome()\n",
    "driver.get(\"https://resultados.lamolina.edu.pe/resultados\")\n",
    "time.sleep(2)\n",
    "\n",
    "# Click en \"Buscar por carreras\"\n",
    "driver.find_element(By.XPATH, \"//*[contains(text(), 'Buscar por carreras')]\").click()\n",
    "time.sleep(2)\n",
    "\n",
    "# Lista de carreras\n",
    "carreras = ['Agronomía', 'Biología', 'Ingeniería Ambiental', 'Ingeniería Meteorológica', \n",
    "           'Ingeniería Forestal', 'Economía', 'Estadística Informática', 'Ing. Gestión Empresarial',\n",
    "           'Ingeniería Agrícola', 'Zootecnia', 'Pesquería', 'Ingeniería en Industrias Alimentarias']\n",
    "\n",
    "todos_datos = []\n",
    "\n",
    "for carrera in carreras:\n",
    "    try:\n",
    "        # Click en la carrera\n",
    "        driver.find_element(By.XPATH, f\"//*[contains(text(), '{carrera}')]\").click()\n",
    "        time.sleep(3)\n",
    "        \n",
    "        # Extraer datos de la tabla\n",
    "        elementos = driver.find_elements(By.CSS_SELECTOR, \"p.data-data\")\n",
    "        carrera_datos = []\n",
    "        \n",
    "        for i in range(0, len(elementos), 3):\n",
    "            if i + 2 < len(elementos):\n",
    "                nombre = elementos[i].text.strip()\n",
    "                modalidad = elementos[i + 1].text.strip()\n",
    "                omg = elementos[i + 2].text.strip()\n",
    "                if nombre and omg.isdigit():\n",
    "                    carrera_datos.append([nombre, modalidad, omg, carrera])\n",
    "        \n",
    "        todos_datos.extend(carrera_datos)\n",
    "        print(f\"✓ {carrera}: {len(carrera_datos)} ingresantes descargados\")\n",
    "        \n",
    "        # Click en \"Elegir otra carrera\" en lugar de retroceder\n",
    "        elegir_otra = driver.find_element(By.XPATH, \"//*[contains(text(), 'Elegir otra carrera')]\")\n",
    "        elegir_otra.click()\n",
    "        time.sleep(2)\n",
    "        \n",
    "    except:\n",
    "        print(f\"✗ Error con {carrera}\")\n",
    "        # Si hay error, intentar hacer click en \"Elegir otra carrera\"\n",
    "        try:\n",
    "            elegir_otra = driver.find_element(By.XPATH, \"//*[contains(text(), 'Elegir otra carrera')]\")\n",
    "            elegir_otra.click()\n",
    "            time.sleep(2)\n",
    "        except:\n",
    "            pass\n",
    "\n",
    "# Guardar todo en un archivo\n",
    "with open('todos_ingresantes.csv', 'w', newline='', encoding='utf-8') as archivo:\n",
    "    writer = csv.writer(archivo)\n",
    "    writer.writerow(['INGRESANTE', 'MODALIDAD', 'OMG', 'CARRERA'])\n",
    "    writer.writerows(todos_datos)\n",
    "\n",
    "print(f\"Total: {len(todos_datos)} ingresantes de todas las carreras guardados\")\n",
    "driver.quit()"
   ]
  },
  {
   "cell_type": "code",
   "execution_count": 1,
   "id": "eebc9a4a",
   "metadata": {},
   "outputs": [
    {
     "name": "stdout",
     "output_type": "stream",
     "text": [
      "✓ Convertido a ingresantes_UNALM_2025_II.csv\n"
     ]
    }
   ],
   "source": [
    "import pandas as pd\n",
    "\n",
    "# Leer archivo\n",
    "df = pd.read_csv('todos_ingresantes.csv')\n",
    "\n",
    "# Si todo está en una columna, separar por comas\n",
    "if len(df.columns) == 1:\n",
    "    df[['INGRESANTE', 'MODALIDAD', 'OMG']] = df.iloc[:,0].str.split(',', expand=True)\n",
    "\n",
    "# Limpiar caracteres especiales que no son compatibles con latin-1\n",
    "df = df.replace({\n",
    "    '\\u2013': '-',  # Guión largo\n",
    "    '\\u2014': '-',  # Guión em\n",
    "    '\\u2019': \"'\",  # Apostrofe curvo\n",
    "    '\\u201c': '\"',  # Comilla izquierda\n",
    "    '\\u201d': '\"'   # Comilla derecha\n",
    "}, regex=True)\n",
    "\n",
    "# Guardar para Excel\n",
    "df.to_csv('ingresantes_UNALM_2025_II.csv', encoding='latin-1', sep=';', index=False, errors='replace')\n",
    "print(\"✓ Convertido a ingresantes_UNALM_2025_II.csv\")"
   ]
  }
 ],
 "metadata": {
  "kernelspec": {
   "display_name": "base",
   "language": "python",
   "name": "python3"
  },
  "language_info": {
   "codemirror_mode": {
    "name": "ipython",
    "version": 3
   },
   "file_extension": ".py",
   "mimetype": "text/x-python",
   "name": "python",
   "nbconvert_exporter": "python",
   "pygments_lexer": "ipython3",
   "version": "3.12.7"
  }
 },
 "nbformat": 4,
 "nbformat_minor": 5
}
